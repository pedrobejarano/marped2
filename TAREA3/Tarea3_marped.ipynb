{
 "cells": [
  {
   "cell_type": "markdown",
   "metadata": {},
   "source": [
    "## ANÁLISIS DE RED DE CO-EXPRESIÓN GÉNICA DE DIEZ FACTORES DE TRANSCRIPCIÓN DE A.THALIANA"
   ]
  },
  {
   "cell_type": "markdown",
   "metadata": {},
   "source": [
    "**Autores**: Mario Ruiz Velázquez y Pedro J. Bejarano Díaz\n",
    "\n",
    "**Contacto**: marioruizvelazquez@gmail.com/ pedro.bejarano@jerez.es\n",
    "\n",
    "**Fecha**: 2/02/2019\n"
   ]
  },
  {
   "cell_type": "markdown",
   "metadata": {},
   "source": [
    "**1.INTRODUCCIÓN**"
   ]
  },
  {
   "cell_type": "markdown",
   "metadata": {},
   "source": [
    "Las redes de coexpresión génica están formadas por diferentes genes que se expresan de manera conjunta. \n",
    "Un estudio interesante sería construir una red de corregulación génica, que es una red dirigida, y que nos permitiría analizar cómo están regulados los genes  de esta red.\n",
    "\n",
    "Los factores de transcripción son proteínas que se encargan de regular la transcripción de los genes que se encuentran en el ADN. De manera que, si se obtienen las listas de los genes diana para cada uno de los diferentes factores de transcripción, se podría analizar como están regulados estos genes. \n"
   ]
  },
  {
   "cell_type": "markdown",
   "metadata": {},
   "source": [
    "**2.OBJETIVOS**"
   ]
  },
  {
   "cell_type": "markdown",
   "metadata": {},
   "source": [
    "El objetivo de esta tarea es construir una red cotranscripcional para los genes dianas de 10 factores de transcripción de Arabidopsis Thaliana"
   ]
  },
  {
   "cell_type": "markdown",
   "metadata": {},
   "source": [
    "**ANÁLISIS CHIP-SEQ**"
   ]
  },
  {
   "cell_type": "markdown",
   "metadata": {},
   "source": [
    "Utilizando el pipeline de chip seq elaborado anteriormente, se obtienen los genes dianas para cada uno de los factores de transcripción que se han utilizado. A continuación se muestran cuáles son estos factores y las funciones biológicas que tienen en Arabidopsis Thaliana:\n",
    "\n",
    "**ARF6**: Es un factor de transcripción relacionado con la respuesta a auxina.  La lista de genes diana de este factor es la siguiente: [Genes diana ARF6](AT1G30330.txt)\n",
    "\n",
    "**JAG**: Es un factor de transcripción que forma parte del dedo de zinc que es necesario para la forma adecuada de los órganos laterales y para inducir la proliferación del tejido del órgano lateral. Junto con NUB, está involucrado en el desarrollo de estambres y carpelos. La lista de genes diana de este factor es la siguiente: [Genes diana JAG](AT1G68480.txt)\n",
    "\n",
    "**PIF4**: Es un factor de transcripción que regula negativamente las respuestas de luz roja mediadas por phyB. Involucrado en la respuesta de evitación de sombra. La lista de genes diana de este factor es la siguiente: [Genes diana PIF4](AT2G43010.txt)\n",
    "\n",
    "**CCA1**: Es un factor de transcripción que participa en la regulación del ciclo circadiano. La lista de genes diana de este factor es la siguiente: [Genes diana CCA1](AT2G46830.txt)\n",
    "\n",
    "**MYB3-R3**: Es un factor de transcripción está relacionado con el bloqueo de la división celular en respuesta al daño del ADN.La lista de genes diana de este factor es la siguiente: [Genes diana MYB3-R3](AT3G09370.txt)\n",
    "\n",
    "**RBR1**: Es un factor de transcripción que desempeña varias funciones entre las que destacan: la proliferación nuclear en el gametofito femenino. También se requiere para la correcta diferenciación de los tipos de células gametofíticas masculinas. Regula el mantenimiento de las células madre en las raíces de Arabidopsis. La lista de genes diana de este factor es la siguiente: [Genes diana RBR1](AT3G12280.txt)\n",
    "\n",
    "**IBL1**: Es un factor de transcripción que está actúa como represor transcripcional que regula negativamente el alargamiento de células y órganos en respuesta a la señalización de giberelina (GA) y brasinoesteroides (BR).La lista de genes diana de este factor es la siguiente: [Genes diana IBL1](AT4G30410.txt)\n",
    "\n",
    "**PI**: Es un factor de transcripción necesario para la especificación de las identidades de pétalos y estambres. a lista de genes diana de este factor es la siguiente: La lista de genes diana de este factor es la siguiente:[Genes diana PI](AT5G20240.txt)\n",
    "\n",
    "**AGL8** Es un factor de transcripción relacionado con la diferenciación celular y el desarrollo del fruto. La lista de genes diana de este factor es la siguiente:[Genes diana AGL8](AT5G60910.txt)\n",
    "\n",
    "**TOC1** Es un factor de transcripción que contribuye a la aptitud de la planta (fijación de carbono, biomasa) al influir en el período del reloj circadiano:[Genes diana TOC1](AT5G61380.txt)\n",
    "\n",
    "\n",
    "\n",
    "\n"
   ]
  },
  {
   "cell_type": "markdown",
   "metadata": {},
   "source": [
    "**CONSTRUCCIÓN DE LA RED**"
   ]
  },
  {
   "cell_type": "markdown",
   "metadata": {},
   "source": [
    "Una vez obtenidos los genes diana para los diez factores de transcripción, se va a construir la red de corregulación génica mediante la herramienta **Rstudio**\n",
    "\n",
    "Para comenzar se crea un fichero de entrada en el que se encuentran los identificadores de los genes.\n"
   ]
  },
  {
   "cell_type": "code",
   "execution_count": 1,
   "metadata": {},
   "outputs": [
    {
     "data": {
      "text/html": [
       "10"
      ],
      "text/latex": [
       "10"
      ],
      "text/markdown": [
       "10"
      ],
      "text/plain": [
       "[1] 10"
      ]
     },
     "metadata": {},
     "output_type": "display_data"
    }
   ],
   "source": [
    "tf.name <- read.table(file = \"target_gen.txt\", header = FALSE)[[1]]\n",
    "length(tf.name)"
   ]
  },
  {
   "cell_type": "markdown",
   "metadata": {},
   "source": [
    "Posteriormente, se almacenan los genes dianas de los factores de transcripción en un vector y con la función **unique** eliminamos los posibles genes repetidos que hayan podido aparecer. \n"
   ]
  },
  {
   "cell_type": "code",
   "execution_count": null,
   "metadata": {},
   "outputs": [],
   "source": [
    "genes.in.network <- c()\n",
    "for(i in 1:length(tfs))\n",
    "{\n",
    "  current.tf.file <- paste(tfs[i],\".txt\",sep=\"\")\n",
    "  current.tf.data <- read.table(file=current.tf.file,as.is=TRUE)\n",
    "  current.tf.targets <- current.tf.data[,1]\n",
    "  genes.in.network <- c(genes.in.network,current.tf.targets)\n",
    "}\n",
    "\n",
    "genes.in.network <- unique(genes.in.network)\n",
    "genes.in.network\n",
    "length(genes.in.network)"
   ]
  },
  {
   "cell_type": "markdown",
   "metadata": {},
   "source": [
    "A continuación, se genera una matriz de adyacencia cuyos valores iniciales serán 0. Si el gen es diana del factor de transcripción, se sustituirá un 0 por 1 en la matriz de adyacencia. "
   ]
  },
  {
   "cell_type": "code",
   "execution_count": 14,
   "metadata": {},
   "outputs": [
    {
     "data": {
      "text/html": [
       "<table>\n",
       "<caption>A matrix: 4 × 4 of type dbl</caption>\n",
       "<thead>\n",
       "\t<tr><th></th><th scope=col>AT1G18879</th><th scope=col>AT1G19530</th><th scope=col>AT1G26558</th><th scope=col>AT1G43950</th></tr>\n",
       "</thead>\n",
       "<tbody>\n",
       "\t<tr><th scope=row>AT1G18879</th><td>0</td><td>0</td><td>0</td><td>0</td></tr>\n",
       "\t<tr><th scope=row>AT1G19530</th><td>0</td><td>0</td><td>0</td><td>0</td></tr>\n",
       "\t<tr><th scope=row>AT1G26558</th><td>0</td><td>0</td><td>0</td><td>0</td></tr>\n",
       "\t<tr><th scope=row>AT1G43950</th><td>0</td><td>0</td><td>0</td><td>0</td></tr>\n",
       "</tbody>\n",
       "</table>\n"
      ],
      "text/latex": [
       "A matrix: 4 × 4 of type dbl\n",
       "\\begin{tabular}{r|llll}\n",
       "  & AT1G18879 & AT1G19530 & AT1G26558 & AT1G43950\\\\\n",
       "\\hline\n",
       "\tAT1G18879 & 0 & 0 & 0 & 0\\\\\n",
       "\tAT1G19530 & 0 & 0 & 0 & 0\\\\\n",
       "\tAT1G26558 & 0 & 0 & 0 & 0\\\\\n",
       "\tAT1G43950 & 0 & 0 & 0 & 0\\\\\n",
       "\\end{tabular}\n"
      ],
      "text/markdown": [
       "\n",
       "A matrix: 4 × 4 of type dbl\n",
       "\n",
       "| <!--/--> | AT1G18879 | AT1G19530 | AT1G26558 | AT1G43950 |\n",
       "|---|---|---|---|---|\n",
       "| AT1G18879 | 0 | 0 | 0 | 0 |\n",
       "| AT1G19530 | 0 | 0 | 0 | 0 |\n",
       "| AT1G26558 | 0 | 0 | 0 | 0 |\n",
       "| AT1G43950 | 0 | 0 | 0 | 0 |\n",
       "\n"
      ],
      "text/plain": [
       "          AT1G18879 AT1G19530 AT1G26558 AT1G43950\n",
       "AT1G18879 0         0         0         0        \n",
       "AT1G19530 0         0         0         0        \n",
       "AT1G26558 0         0         0         0        \n",
       "AT1G43950 0         0         0         0        "
      ]
     },
     "metadata": {},
     "output_type": "display_data"
    }
   ],
   "source": [
    "adj.matrix <- matrix(0,nrow=length(genes.in.network),ncol=length(genes.in.network))\n",
    "\n",
    "rownames(adj.matrix) <- genes.in.network\n",
    "colnames(adj.matrix) <- genes.in.network\n",
    "\n",
    "adj.matrix[1:4,1:4]\n",
    "\n",
    "for(i in 1:length(tfs))\n",
    "{\n",
    "  current.tf <- tfs[i]\n",
    "  current.tf.file <- paste(current.tf, \".txt\",sep=\"\")\n",
    "  current.tf.data <- read.table(file=current.tf.file,as.is=TRUE)\n",
    "  current.tf.targets <- current.tf.data[,1]\n",
    "  adj.matrix[current.tf,current.tf.targets] <-1\n",
    "}"
   ]
  },
  {
   "cell_type": "markdown",
   "metadata": {},
   "source": [
    "Una vez se obtiene la matriz de adyacencia, se construye su red transcripcional y se obtiene un fichero en formato.gml. Para realiza esto, es necesario descargar el paquete de bioconductor llamado : **igraph**. Puesto que la red generada es demasiado grande, se utilizará la red que contiene los factores de transcripción y mediante las aristas, podemos ver las conexiones que hay entre ellos.\n"
   ]
  },
  {
   "cell_type": "code",
   "execution_count": 16,
   "metadata": {},
   "outputs": [
    {
     "data": {
      "text/plain": [
       "IGRAPH 9b375cf DN-- 10770 15476 -- \n",
       "+ attr: id (v/n), name (v/c)\n",
       "+ edges from 9b375cf (vertex names):\n",
       " [1] AT1G68480->AT1G01140 AT1G68480->AT1G01830 AT1G68480->AT1G09440\n",
       " [4] AT1G68480->AT1G09950 AT1G68480->AT1G11120 AT1G68480->AT1G14430\n",
       " [7] AT1G68480->AT1G15370 AT1G68480->AT1G16500 AT1G68480->AT1G19050\n",
       "[10] AT1G68480->AT1G21730 AT1G68480->AT1G24625 AT1G68480->AT1G30320\n",
       "[13] AT1G68480->AT1G32360 AT1G68480->AT1G33250 AT1G68480->AT1G49520\n",
       "[16] AT1G68480->AT1G53090 AT1G68480->AT1G62870 AT1G68480->AT1G63820\n",
       "[19] AT1G68480->AT1G65810 AT1G68480->AT1G66140 AT1G68480->AT1G67500\n",
       "[22] AT1G68480->AT1G67510 AT1G68480->AT1G68480 AT1G68480->AT1G69420\n",
       "+ ... omitted several edges"
      ]
     },
     "metadata": {},
     "output_type": "display_data"
    },
    {
     "data": {
      "text/plain": [
       "IGRAPH 9b3c14b DN-- 10 27 -- \n",
       "+ attr: id (v/n), name (v/c)\n",
       "+ edges from 9b3c14b (vertex names):\n",
       " [1] AT1G68480->AT1G68480 AT2G43010->AT2G43010 AT2G43010->AT2G46830\n",
       " [4] AT2G43010->AT3G12280 AT2G43010->AT4G30410 AT2G46830->AT2G46830\n",
       " [7] AT3G09370->AT2G43010 AT3G09370->AT2G46830 AT3G09370->AT3G12280\n",
       "[10] AT3G09370->AT4G30410 AT3G09370->AT1G30330 AT3G09370->AT3G09370\n",
       "[13] AT5G20240->AT1G68480 AT5G20240->AT2G43010 AT5G20240->AT2G46830\n",
       "[16] AT5G20240->AT4G30410 AT5G20240->AT3G09370 AT5G20240->AT5G20240\n",
       "[19] AT5G20240->AT5G60910 AT5G20240->AT5G61380 AT5G60910->AT2G43010\n",
       "[22] AT5G60910->AT3G12280 AT5G60910->AT1G30330 AT5G60910->AT5G60910\n",
       "+ ... omitted several edges"
      ]
     },
     "metadata": {},
     "output_type": "display_data"
    },
    {
     "data": {
      "image/png": "[encoded data removed]",
      "text/plain": [
       "Plot with title \"\""
      ]
     },
     "metadata": {
      "image/png": {
       "height": 420,
       "width": 420
      },
      "text/plain": {
       "height": 420,
       "width": 420
      }
     },
     "output_type": "display_data"
    }
   ],
   "source": [
    "library(igraph)\n",
    "\n",
    "gene.transcriptional.network <- graph.adjacency(adj.matrix, mode=\"directed\")\n",
    "write.graph(gene.transcriptional.network,file=\"transcriptional_gene_network.gml\",format=\"gml\")\n",
    "gene.transcriptional.network <- read.graph(file = \"transcriptional_gene_network.gml\", format = \"gml\")\n",
    "gene.transcriptional.network\n",
    "\n",
    "tfs.network <- induced.subgraph(gene.transcriptional.network,tfs)\n",
    "tfs.network\n",
    "\n",
    "plot.igraph(x = tfs.network,vertex.size=8,edge.arrow.size=0.5,vertex.label=\"\",vertex.color=\"blue\")\n",
    "write.graph(tfs.network,file=\"red_transcripcional_tf.gml\",format=\"gml\")\n"
   ]
  },
  {
   "cell_type": "markdown",
   "metadata": {},
   "source": [
    "El número total de nodos, que son los posibles genes regulados por los factores de transcripción, es de 10770, mientras que el número de aristas, que son las conexiones entre los genes, es de 15476."
   ]
  },
  {
   "cell_type": "markdown",
   "metadata": {},
   "source": [
    "Posteriormente, la red transcripcional se visualiza en cytoscape y se obtiene la siguiente imagen:\n"
   ]
  },
  {
   "cell_type": "markdown",
   "metadata": {},
   "source": [
    "<img src= \"images/red_mario.png\">"
   ]
  },
  {
   "cell_type": "markdown",
   "metadata": {},
   "source": [
    "A partir de la red obtenida, se analizarán los motivos de red que aparezcan en ella. Un motivo de red es un subgrafo que aparece un número significativo de veces, siendo mayor este número al que aparece en una red generada de forma aleatoria y que cumple las mismas propiedades.\n",
    "\n",
    "Primero, hay que determinar si la red construida es libre de escala. Una red es libre de escala cuando la distribución del grado de los nodos se ajusta a una potencial negativa. Para determinar si la red es o no libre de escala se usará el test de Kolmogorov-Smirnov. En este test se realiza un contraste de hipótesis, en el que la hipótesis nula afirma que la distribución del grado de los nodos se ajusta a una potencial negativa y la hipótesis afirmativa corrobora lo contrario. De acuerdo al contraste de hipótesis planteado para considerar que la red es libre de escala el p-valor obtenido debe ser cercano a 1. "
   ]
  },
  {
   "cell_type": "code",
   "execution_count": 4,
   "metadata": {},
   "outputs": [
    {
     "data": {
      "text/plain": [
       "\n",
       "Call:\n",
       "lm(formula = log10.degrees.frequencies ~ log10.node.degrees)\n",
       "\n",
       "Residuals:\n",
       "       2        3        4        6        8        9 \n",
       "-0.15480  0.12429  0.10872  0.08678 -0.22982  0.06483 \n",
       "\n",
       "Coefficients:\n",
       "                   Estimate Std. Error t value Pr(>|t|)\n",
       "(Intercept)          0.1173     0.2115   0.554    0.609\n",
       "log10.node.degrees   0.1246     0.2985   0.417    0.698\n",
       "\n",
       "Residual standard error: 0.1701 on 4 degrees of freedom\n",
       "Multiple R-squared:  0.04174,\tAdjusted R-squared:  -0.1978 \n",
       "F-statistic: 0.1742 on 1 and 4 DF,  p-value: 0.6978\n"
      ]
     },
     "metadata": {},
     "output_type": "display_data"
    },
    {
     "data": {
      "image/png": "[encoded data removed]",
      "text/plain": [
       "Plot with title \"Degree distribution\""
      ]
     },
     "metadata": {
      "image/png": {
       "height": 420,
       "width": 420
      },
      "text/plain": {
       "height": 420,
       "width": 420
      }
     },
     "output_type": "display_data"
    }
   ],
   "source": [
    "# Calculo del grado de los nodos\n",
    "network.degrees <- degree(tfs.network)\n",
    "hist(network.degrees,col=\"blue\",xlab=\"Node degree\", ylab=\"Probability\",main=\"Degree distribution\")\n",
    "\n",
    "# Calculo de la frecuencia absoluta del grado de los nodos\n",
    "degree.frequencies <- table(network.degrees)\n",
    "# Eliminamos nodos con grado 0 para poder aplicar log10\n",
    "\n",
    "# Transformaci?n logar?tmica\n",
    "log10.degrees.frequencies <- log10(degree.frequencies)\n",
    "log10.node.degrees <- log10(as.numeric(names(degree.frequencies)))\n",
    "\n",
    "# Regresi?n lineal\n",
    "lm.r <- lm(log10.degrees.frequencies ~ log10.node.degrees)\n",
    "summary(lm.r)"
   ]
  },
  {
   "cell_type": "markdown",
   "metadata": {},
   "source": [
    "El **p-valor** obtenido es de 0.6978 por lo tanto, se acepta la hipótesis nula, es decir, que la red se considera **No libre de escala**. Esto significa que la red no tiene hubs. Esto se debe a que al ser factores de transcripción, todos van a tener un gran número de vecino. Esto conlleva que esta red sea robusta a ataques dirigidos y sensible a ataques aleatorios  "
   ]
  },
  {
   "cell_type": "markdown",
   "metadata": {},
   "source": [
    "Posteriormente, utilizando el modelo de Erdos-Renyi, se generan redes aleatorias que siguen una distribución de Poisson con un número de nodos y aristas dados. Estas redes cumplen las mismas propiedades que nuestra red de interés"
   ]
  },
  {
   "cell_type": "code",
   "execution_count": 17,
   "metadata": {},
   "outputs": [
    {
     "data": {
      "image/png": "[encoded data removed]",
      "text/plain": [
       "Plot with title \"\""
      ]
     },
     "metadata": {
      "image/png": {
       "height": 420,
       "width": 420
      },
      "text/plain": {
       "height": 420,
       "width": 420
      }
     },
     "output_type": "display_data"
    }
   ],
   "source": [
    "random.graph <- erdos.renyi.game(n= 10, p.or.m=27, type=\"gnm\", directed=TRUE, loops=TRUE)\n",
    "plot.igraph(x = random.graph,vertex.size=8,edge.arrow.size=0.5,vertex.label=\"\",vertex.color=\"blue\")"
   ]
  },
  {
   "cell_type": "markdown",
   "metadata": {},
   "source": [
    "Primero, se estudiará si la autorregulación es un motivo de red. Para comprobar esto, se construye una matriz de adyacencia y se suman los elementos de la diagonal principal."
   ]
  },
  {
   "cell_type": "code",
   "execution_count": 18,
   "metadata": {},
   "outputs": [
    {
     "data": {
      "text/html": [
       "<table>\n",
       "<caption>A matrix: 10 × 10 of type dbl</caption>\n",
       "<thead>\n",
       "\t<tr><th></th><th scope=col>AT1G68480</th><th scope=col>AT2G43010</th><th scope=col>AT2G46830</th><th scope=col>AT3G12280</th><th scope=col>AT4G30410</th><th scope=col>AT1G30330</th><th scope=col>AT3G09370</th><th scope=col>AT5G20240</th><th scope=col>AT5G60910</th><th scope=col>AT5G61380</th></tr>\n",
       "</thead>\n",
       "<tbody>\n",
       "\t<tr><th scope=row>AT1G68480</th><td>1</td><td>0</td><td>0</td><td>0</td><td>0</td><td>0</td><td>0</td><td>0</td><td>0</td><td>0</td></tr>\n",
       "\t<tr><th scope=row>AT2G43010</th><td>0</td><td>1</td><td>1</td><td>1</td><td>1</td><td>0</td><td>0</td><td>0</td><td>0</td><td>0</td></tr>\n",
       "\t<tr><th scope=row>AT2G46830</th><td>0</td><td>0</td><td>1</td><td>0</td><td>0</td><td>0</td><td>0</td><td>0</td><td>0</td><td>0</td></tr>\n",
       "\t<tr><th scope=row>AT3G12280</th><td>0</td><td>0</td><td>0</td><td>0</td><td>0</td><td>0</td><td>0</td><td>0</td><td>0</td><td>0</td></tr>\n",
       "\t<tr><th scope=row>AT4G30410</th><td>0</td><td>0</td><td>0</td><td>0</td><td>0</td><td>0</td><td>0</td><td>0</td><td>0</td><td>0</td></tr>\n",
       "\t<tr><th scope=row>AT1G30330</th><td>0</td><td>0</td><td>0</td><td>0</td><td>0</td><td>0</td><td>0</td><td>0</td><td>0</td><td>0</td></tr>\n",
       "\t<tr><th scope=row>AT3G09370</th><td>0</td><td>1</td><td>1</td><td>1</td><td>1</td><td>1</td><td>1</td><td>0</td><td>0</td><td>0</td></tr>\n",
       "\t<tr><th scope=row>AT5G20240</th><td>1</td><td>1</td><td>1</td><td>0</td><td>1</td><td>0</td><td>1</td><td>1</td><td>1</td><td>1</td></tr>\n",
       "\t<tr><th scope=row>AT5G60910</th><td>0</td><td>1</td><td>0</td><td>1</td><td>0</td><td>1</td><td>0</td><td>0</td><td>1</td><td>0</td></tr>\n",
       "\t<tr><th scope=row>AT5G61380</th><td>0</td><td>1</td><td>1</td><td>1</td><td>0</td><td>0</td><td>0</td><td>0</td><td>0</td><td>0</td></tr>\n",
       "</tbody>\n",
       "</table>\n"
      ],
      "text/latex": [
       "A matrix: 10 × 10 of type dbl\n",
       "\\begin{tabular}{r|llllllllll}\n",
       "  & AT1G68480 & AT2G43010 & AT2G46830 & AT3G12280 & AT4G30410 & AT1G30330 & AT3G09370 & AT5G20240 & AT5G60910 & AT5G61380\\\\\n",
       "\\hline\n",
       "\tAT1G68480 & 1 & 0 & 0 & 0 & 0 & 0 & 0 & 0 & 0 & 0\\\\\n",
       "\tAT2G43010 & 0 & 1 & 1 & 1 & 1 & 0 & 0 & 0 & 0 & 0\\\\\n",
       "\tAT2G46830 & 0 & 0 & 1 & 0 & 0 & 0 & 0 & 0 & 0 & 0\\\\\n",
       "\tAT3G12280 & 0 & 0 & 0 & 0 & 0 & 0 & 0 & 0 & 0 & 0\\\\\n",
       "\tAT4G30410 & 0 & 0 & 0 & 0 & 0 & 0 & 0 & 0 & 0 & 0\\\\\n",
       "\tAT1G30330 & 0 & 0 & 0 & 0 & 0 & 0 & 0 & 0 & 0 & 0\\\\\n",
       "\tAT3G09370 & 0 & 1 & 1 & 1 & 1 & 1 & 1 & 0 & 0 & 0\\\\\n",
       "\tAT5G20240 & 1 & 1 & 1 & 0 & 1 & 0 & 1 & 1 & 1 & 1\\\\\n",
       "\tAT5G60910 & 0 & 1 & 0 & 1 & 0 & 1 & 0 & 0 & 1 & 0\\\\\n",
       "\tAT5G61380 & 0 & 1 & 1 & 1 & 0 & 0 & 0 & 0 & 0 & 0\\\\\n",
       "\\end{tabular}\n"
      ],
      "text/markdown": [
       "\n",
       "A matrix: 10 × 10 of type dbl\n",
       "\n",
       "| <!--/--> | AT1G68480 | AT2G43010 | AT2G46830 | AT3G12280 | AT4G30410 | AT1G30330 | AT3G09370 | AT5G20240 | AT5G60910 | AT5G61380 |\n",
       "|---|---|---|---|---|---|---|---|---|---|---|\n",
       "| AT1G68480 | 1 | 0 | 0 | 0 | 0 | 0 | 0 | 0 | 0 | 0 |\n",
       "| AT2G43010 | 0 | 1 | 1 | 1 | 1 | 0 | 0 | 0 | 0 | 0 |\n",
       "| AT2G46830 | 0 | 0 | 1 | 0 | 0 | 0 | 0 | 0 | 0 | 0 |\n",
       "| AT3G12280 | 0 | 0 | 0 | 0 | 0 | 0 | 0 | 0 | 0 | 0 |\n",
       "| AT4G30410 | 0 | 0 | 0 | 0 | 0 | 0 | 0 | 0 | 0 | 0 |\n",
       "| AT1G30330 | 0 | 0 | 0 | 0 | 0 | 0 | 0 | 0 | 0 | 0 |\n",
       "| AT3G09370 | 0 | 1 | 1 | 1 | 1 | 1 | 1 | 0 | 0 | 0 |\n",
       "| AT5G20240 | 1 | 1 | 1 | 0 | 1 | 0 | 1 | 1 | 1 | 1 |\n",
       "| AT5G60910 | 0 | 1 | 0 | 1 | 0 | 1 | 0 | 0 | 1 | 0 |\n",
       "| AT5G61380 | 0 | 1 | 1 | 1 | 0 | 0 | 0 | 0 | 0 | 0 |\n",
       "\n"
      ],
      "text/plain": [
       "          AT1G68480 AT2G43010 AT2G46830 AT3G12280 AT4G30410 AT1G30330 AT3G09370\n",
       "AT1G68480 1         0         0         0         0         0         0        \n",
       "AT2G43010 0         1         1         1         1         0         0        \n",
       "AT2G46830 0         0         1         0         0         0         0        \n",
       "AT3G12280 0         0         0         0         0         0         0        \n",
       "AT4G30410 0         0         0         0         0         0         0        \n",
       "AT1G30330 0         0         0         0         0         0         0        \n",
       "AT3G09370 0         1         1         1         1         1         1        \n",
       "AT5G20240 1         1         1         0         1         0         1        \n",
       "AT5G60910 0         1         0         1         0         1         0        \n",
       "AT5G61380 0         1         1         1         0         0         0        \n",
       "          AT5G20240 AT5G60910 AT5G61380\n",
       "AT1G68480 0         0         0        \n",
       "AT2G43010 0         0         0        \n",
       "AT2G46830 0         0         0        \n",
       "AT3G12280 0         0         0        \n",
       "AT4G30410 0         0         0        \n",
       "AT1G30330 0         0         0        \n",
       "AT3G09370 0         0         0        \n",
       "AT5G20240 1         1         1        \n",
       "AT5G60910 0         1         0        \n",
       "AT5G61380 0         0         0        "
      ]
     },
     "metadata": {},
     "output_type": "display_data"
    },
    {
     "data": {
      "text/html": [
       "<dl class=dl-horizontal>\n",
       "\t<dt>AT1G68480</dt>\n",
       "\t\t<dd>1</dd>\n",
       "\t<dt>AT2G43010</dt>\n",
       "\t\t<dd>1</dd>\n",
       "\t<dt>AT2G46830</dt>\n",
       "\t\t<dd>1</dd>\n",
       "\t<dt>AT3G12280</dt>\n",
       "\t\t<dd>0</dd>\n",
       "\t<dt>AT4G30410</dt>\n",
       "\t\t<dd>0</dd>\n",
       "\t<dt>AT1G30330</dt>\n",
       "\t\t<dd>0</dd>\n",
       "\t<dt>AT3G09370</dt>\n",
       "\t\t<dd>1</dd>\n",
       "\t<dt>AT5G20240</dt>\n",
       "\t\t<dd>1</dd>\n",
       "\t<dt>AT5G60910</dt>\n",
       "\t\t<dd>1</dd>\n",
       "\t<dt>AT5G61380</dt>\n",
       "\t\t<dd>0</dd>\n",
       "</dl>\n"
      ],
      "text/latex": [
       "\\begin{description*}\n",
       "\\item[AT1G68480] 1\n",
       "\\item[AT2G43010] 1\n",
       "\\item[AT2G46830] 1\n",
       "\\item[AT3G12280] 0\n",
       "\\item[AT4G30410] 0\n",
       "\\item[AT1G30330] 0\n",
       "\\item[AT3G09370] 1\n",
       "\\item[AT5G20240] 1\n",
       "\\item[AT5G60910] 1\n",
       "\\item[AT5G61380] 0\n",
       "\\end{description*}\n"
      ],
      "text/markdown": [
       "AT1G68480\n",
       ":   1AT2G43010\n",
       ":   1AT2G46830\n",
       ":   1AT3G12280\n",
       ":   0AT4G30410\n",
       ":   0AT1G30330\n",
       ":   0AT3G09370\n",
       ":   1AT5G20240\n",
       ":   1AT5G60910\n",
       ":   1AT5G61380\n",
       ":   0\n",
       "\n"
      ],
      "text/plain": [
       "AT1G68480 AT2G43010 AT2G46830 AT3G12280 AT4G30410 AT1G30330 AT3G09370 AT5G20240 \n",
       "        1         1         1         0         0         0         1         1 \n",
       "AT5G60910 AT5G61380 \n",
       "        1         0 "
      ]
     },
     "metadata": {},
     "output_type": "display_data"
    },
    {
     "data": {
      "text/html": [
       "6"
      ],
      "text/latex": [
       "6"
      ],
      "text/markdown": [
       "6"
      ],
      "text/plain": [
       "[1] 6"
      ]
     },
     "metadata": {},
     "output_type": "display_data"
    }
   ],
   "source": [
    "tfs.adjacency <- as.matrix(get.adjacency(tfs.network))\n",
    "tfs.adjacency\n",
    "diag(tfs.adjacency)\n",
    "autorregulation.in.tfs <- sum(diag(tfs.adjacency))\n",
    "autorregulation.in.tfs"
   ]
  },
  {
   "cell_type": "markdown",
   "metadata": {},
   "source": [
    "La suma de la diagonal principal de la matriz es 6. Este número se compara con el número de genes autorregulados en la red creada de forma aleatoria, para ver si este número es significativo y por lo tanto, un motivo de red. Se generan 1000 redes de forma aleatoria. \n"
   ]
  },
  {
   "cell_type": "markdown",
   "metadata": {},
   "source": [
    "autorregulation.in.random <- sum(diag(as.matrix(get.adjacency(random.graph))))\n",
    "autorregulation.in.random\n",
    "\n",
    "autorregulation.random.graphs <- vector(length=1000, mode=\"numeric\")\n",
    "\n",
    "for (i in 1:10000)\n",
    "{\n",
    "  random.graph <- erdos.renyi.game(n=10, p.or.m=27, type=\"gnm\", directed=TRUE, loops=TRUE)\n",
    "  autorregulation.random.graphs[i] <- sum(diag(as.matrix(get.adjacency(random.graph))))\n",
    "}\n",
    "\n",
    "mean(autorregulation.random.graphs)\n",
    "sd(autorregulation.random.graphs)\n",
    "\n",
    "sum(autorregulation.random.graphs > autorregulation.in.tfs)/10000\n",
    "\n"
   ]
  },
  {
   "cell_type": "markdown",
   "metadata": {},
   "source": [
    "Se observa que la media obtenida de estas 1000 redes aleatorias es de 2.69 y la desviación típica es de 1.3. El p-valor obtenido es cercano a 0, 0.0036. Esto significa que el número de redes aleatorias con un número mayor de autorregulación respecto a la red estudiada es casi 0. Por lo tanto, se concluye que la autorregulación es un motivo de red."
   ]
  },
  {
   "cell_type": "markdown",
   "metadata": {},
   "source": [
    "A continuación, se estudian los motivos de red de tres nodos. Para ello, se utilizará la función **graph.motifs**, que recibe como entrada una red y un tamaño de subgrado y devuelve el número de veces que se encuentra cada subgrafo en la red.\n"
   ]
  },
  {
   "cell_type": "code",
   "execution_count": 25,
   "metadata": {},
   "outputs": [
    {
     "data": {
      "text/html": [
       "<ol class=list-inline>\n",
       "\t<li>&lt;NA&gt;</li>\n",
       "\t<li>&lt;NA&gt;</li>\n",
       "\t<li>8</li>\n",
       "\t<li>&lt;NA&gt;</li>\n",
       "\t<li>9</li>\n",
       "\t<li>0</li>\n",
       "\t<li>26</li>\n",
       "\t<li>14</li>\n",
       "\t<li>0</li>\n",
       "\t<li>0</li>\n",
       "\t<li>0</li>\n",
       "\t<li>0</li>\n",
       "\t<li>0</li>\n",
       "\t<li>0</li>\n",
       "\t<li>0</li>\n",
       "\t<li>0</li>\n",
       "</ol>\n"
      ],
      "text/latex": [
       "\\begin{enumerate*}\n",
       "\\item <NA>\n",
       "\\item <NA>\n",
       "\\item 8\n",
       "\\item <NA>\n",
       "\\item 9\n",
       "\\item 0\n",
       "\\item 26\n",
       "\\item 14\n",
       "\\item 0\n",
       "\\item 0\n",
       "\\item 0\n",
       "\\item 0\n",
       "\\item 0\n",
       "\\item 0\n",
       "\\item 0\n",
       "\\item 0\n",
       "\\end{enumerate*}\n"
      ],
      "text/markdown": [
       "1. &lt;NA&gt;\n",
       "2. &lt;NA&gt;\n",
       "3. 8\n",
       "4. &lt;NA&gt;\n",
       "5. 9\n",
       "6. 0\n",
       "7. 26\n",
       "8. 14\n",
       "9. 0\n",
       "10. 0\n",
       "11. 0\n",
       "12. 0\n",
       "13. 0\n",
       "14. 0\n",
       "15. 0\n",
       "16. 0\n",
       "\n",
       "\n"
      ],
      "text/plain": [
       " [1] NA NA  8 NA  9  0 26 14  0  0  0  0  0  0  0  0"
      ]
     },
     "metadata": {},
     "output_type": "display_data"
    },
    {
     "data": {
      "text/html": [
       "16"
      ],
      "text/latex": [
       "16"
      ],
      "text/markdown": [
       "16"
      ],
      "text/plain": [
       "[1] 16"
      ]
     },
     "metadata": {},
     "output_type": "display_data"
    }
   ],
   "source": [
    "occurrency.subgraph.three.nodes <- graph.motifs(tfs.network, size=3)\n",
    "occurrency.subgraph.three.nodes\n",
    "length(occurrency.subgraph.three.nodes)"
   ]
  },
  {
   "cell_type": "markdown",
   "metadata": {},
   "source": [
    "Como se muestra arriba, se estudian en total 16 subgrafos. Se puede observa el número de veces que parecen cada uno de ellos. Por ejemplo. el grafo número 5, aparece 9 veces y es de un gen regulado por otros dos y a su vez ese gen regula a uno de esos dos genes.  "
   ]
  },
  {
   "cell_type": "code",
   "execution_count": 26,
   "metadata": {},
   "outputs": [
    {
     "data": {
      "image/png": "[encoded data removed]",
      "text/plain": [
       "Plot with title \"\""
      ]
     },
     "metadata": {
      "image/png": {
       "height": 420,
       "width": 420
      },
      "text/plain": {
       "height": 420,
       "width": 420
      }
     },
     "output_type": "display_data"
    }
   ],
   "source": [
    "plot.igraph(graph.isocreate(size=3, number=5))"
   ]
  },
  {
   "cell_type": "code",
   "execution_count": null,
   "metadata": {},
   "outputs": [],
   "source": [
    "A continuación, se comprueba si el número de veces que aparece cada subgrafo es significativo con respecto a las redes \n",
    "generadas de forma aleatoria."
   ]
  },
  {
   "cell_type": "code",
   "execution_count": 27,
   "metadata": {},
   "outputs": [
    {
     "data": {
      "text/html": [
       "<table>\n",
       "<caption>A matrix: 3 × 16 of type dbl</caption>\n",
       "<tbody>\n",
       "\t<tr><td>0</td><td>0</td><td>0</td><td>0</td><td>0</td><td>0</td><td>0</td><td>0</td><td>0</td><td>0</td><td>0</td><td>0</td><td>0</td><td>0</td><td>0</td><td>0</td></tr>\n",
       "\t<tr><td>0</td><td>0</td><td>0</td><td>0</td><td>0</td><td>0</td><td>0</td><td>0</td><td>0</td><td>0</td><td>0</td><td>0</td><td>0</td><td>0</td><td>0</td><td>0</td></tr>\n",
       "\t<tr><td>0</td><td>0</td><td>0</td><td>0</td><td>0</td><td>0</td><td>0</td><td>0</td><td>0</td><td>0</td><td>0</td><td>0</td><td>0</td><td>0</td><td>0</td><td>0</td></tr>\n",
       "</tbody>\n",
       "</table>\n"
      ],
      "text/latex": [
       "A matrix: 3 × 16 of type dbl\n",
       "\\begin{tabular}{llllllllllllllll}\n",
       "\t 0 & 0 & 0 & 0 & 0 & 0 & 0 & 0 & 0 & 0 & 0 & 0 & 0 & 0 & 0 & 0\\\\\n",
       "\t 0 & 0 & 0 & 0 & 0 & 0 & 0 & 0 & 0 & 0 & 0 & 0 & 0 & 0 & 0 & 0\\\\\n",
       "\t 0 & 0 & 0 & 0 & 0 & 0 & 0 & 0 & 0 & 0 & 0 & 0 & 0 & 0 & 0 & 0\\\\\n",
       "\\end{tabular}\n"
      ],
      "text/markdown": [
       "\n",
       "A matrix: 3 × 16 of type dbl\n",
       "\n",
       "| 0 | 0 | 0 | 0 | 0 | 0 | 0 | 0 | 0 | 0 | 0 | 0 | 0 | 0 | 0 | 0 |\n",
       "| 0 | 0 | 0 | 0 | 0 | 0 | 0 | 0 | 0 | 0 | 0 | 0 | 0 | 0 | 0 | 0 |\n",
       "| 0 | 0 | 0 | 0 | 0 | 0 | 0 | 0 | 0 | 0 | 0 | 0 | 0 | 0 | 0 | 0 |\n",
       "\n"
      ],
      "text/plain": [
       "     [,1] [,2] [,3] [,4] [,5] [,6] [,7] [,8] [,9] [,10] [,11] [,12] [,13] [,14]\n",
       "[1,] 0    0    0    0    0    0    0    0    0    0     0     0     0     0    \n",
       "[2,] 0    0    0    0    0    0    0    0    0    0     0     0     0     0    \n",
       "[3,] 0    0    0    0    0    0    0    0    0    0     0     0     0     0    \n",
       "     [,15] [,16]\n",
       "[1,] 0     0    \n",
       "[2,] 0     0    \n",
       "[3,] 0     0    "
      ]
     },
     "metadata": {},
     "output_type": "display_data"
    },
    {
     "data": {
      "text/html": [
       "<table>\n",
       "<caption>A matrix: 3 × 16 of type dbl</caption>\n",
       "<tbody>\n",
       "\t<tr><td>NA</td><td>NA</td><td> 7</td><td>NA</td><td>22</td><td> 7</td><td>9</td><td>3</td><td>1</td><td>6</td><td>0</td><td>2</td><td>0</td><td>0</td><td>1</td><td>0</td></tr>\n",
       "\t<tr><td>NA</td><td>NA</td><td> 9</td><td>NA</td><td>17</td><td> 5</td><td>9</td><td>3</td><td>0</td><td>6</td><td>0</td><td>2</td><td>1</td><td>0</td><td>0</td><td>0</td></tr>\n",
       "\t<tr><td>NA</td><td>NA</td><td>12</td><td>NA</td><td>15</td><td>10</td><td>5</td><td>3</td><td>0</td><td>5</td><td>2</td><td>3</td><td>2</td><td>1</td><td>0</td><td>1</td></tr>\n",
       "</tbody>\n",
       "</table>\n"
      ],
      "text/latex": [
       "A matrix: 3 × 16 of type dbl\n",
       "\\begin{tabular}{llllllllllllllll}\n",
       "\t NA & NA &  7 & NA & 22 &  7 & 9 & 3 & 1 & 6 & 0 & 2 & 0 & 0 & 1 & 0\\\\\n",
       "\t NA & NA &  9 & NA & 17 &  5 & 9 & 3 & 0 & 6 & 0 & 2 & 1 & 0 & 0 & 0\\\\\n",
       "\t NA & NA & 12 & NA & 15 & 10 & 5 & 3 & 0 & 5 & 2 & 3 & 2 & 1 & 0 & 1\\\\\n",
       "\\end{tabular}\n"
      ],
      "text/markdown": [
       "\n",
       "A matrix: 3 × 16 of type dbl\n",
       "\n",
       "| NA | NA |  7 | NA | 22 |  7 | 9 | 3 | 1 | 6 | 0 | 2 | 0 | 0 | 1 | 0 |\n",
       "| NA | NA |  9 | NA | 17 |  5 | 9 | 3 | 0 | 6 | 0 | 2 | 1 | 0 | 0 | 0 |\n",
       "| NA | NA | 12 | NA | 15 | 10 | 5 | 3 | 0 | 5 | 2 | 3 | 2 | 1 | 0 | 1 |\n",
       "\n"
      ],
      "text/plain": [
       "     [,1] [,2] [,3] [,4] [,5] [,6] [,7] [,8] [,9] [,10] [,11] [,12] [,13] [,14]\n",
       "[1,] NA   NA    7   NA   22    7   9    3    1    6     0     2     0     0    \n",
       "[2,] NA   NA    9   NA   17    5   9    3    0    6     0     2     1     0    \n",
       "[3,] NA   NA   12   NA   15   10   5    3    0    5     2     3     2     1    \n",
       "     [,15] [,16]\n",
       "[1,] 1     0    \n",
       "[2,] 0     0    \n",
       "[3,] 0     1    "
      ]
     },
     "metadata": {},
     "output_type": "display_data"
    },
    {
     "data": {
      "text/html": [
       "<ol class=list-inline>\n",
       "\t<li>&lt;NA&gt;</li>\n",
       "\t<li>&lt;NA&gt;</li>\n",
       "\t<li>0.389</li>\n",
       "\t<li>&lt;NA&gt;</li>\n",
       "\t<li>0.891</li>\n",
       "\t<li>0.973</li>\n",
       "\t<li>0</li>\n",
       "\t<li>0.013</li>\n",
       "\t<li>0.606</li>\n",
       "\t<li>0.975</li>\n",
       "\t<li>0.528</li>\n",
       "\t<li>0.793</li>\n",
       "\t<li>0.844</li>\n",
       "\t<li>0.607</li>\n",
       "\t<li>0.416</li>\n",
       "\t<li>0.038</li>\n",
       "</ol>\n"
      ],
      "text/latex": [
       "\\begin{enumerate*}\n",
       "\\item <NA>\n",
       "\\item <NA>\n",
       "\\item 0.389\n",
       "\\item <NA>\n",
       "\\item 0.891\n",
       "\\item 0.973\n",
       "\\item 0\n",
       "\\item 0.013\n",
       "\\item 0.606\n",
       "\\item 0.975\n",
       "\\item 0.528\n",
       "\\item 0.793\n",
       "\\item 0.844\n",
       "\\item 0.607\n",
       "\\item 0.416\n",
       "\\item 0.038\n",
       "\\end{enumerate*}\n"
      ],
      "text/markdown": [
       "1. &lt;NA&gt;\n",
       "2. &lt;NA&gt;\n",
       "3. 0.389\n",
       "4. &lt;NA&gt;\n",
       "5. 0.891\n",
       "6. 0.973\n",
       "7. 0\n",
       "8. 0.013\n",
       "9. 0.606\n",
       "10. 0.975\n",
       "11. 0.528\n",
       "12. 0.793\n",
       "13. 0.844\n",
       "14. 0.607\n",
       "15. 0.416\n",
       "16. 0.038\n",
       "\n",
       "\n"
      ],
      "text/plain": [
       " [1]    NA    NA 0.389    NA 0.891 0.973 0.000 0.013 0.606 0.975 0.528 0.793\n",
       "[13] 0.844 0.607 0.416 0.038"
      ]
     },
     "metadata": {},
     "output_type": "display_data"
    }
   ],
   "source": [
    "motifs.3.random.graph <- matrix(0,nrow=1000, ncol=16)\n",
    "motifs.3.random.graph[1:3,]\n",
    "\n",
    "for (i in 1:1000)\n",
    "{\n",
    "  random.graph <- erdos.renyi.game(n=10, p.or.m=27, type=\"gnm\", directed=TRUE, loops=TRUE)\n",
    "  motifs.3.random.graph[i,] <- graph.motifs(random.graph, size=3)\n",
    "}\n",
    "\n",
    "motifs.3.random.graph[1:3,]\n",
    "# A continuación,se obtiene el p valor de cada uno de los 16 subgrafos\n",
    "\n",
    "p.valor <- c()\n",
    "\n",
    "for (i in 1:16)\n",
    "{\n",
    "medias <- mean(motifs.3.random.graph[,i])\n",
    "sds <- sd(motifs.3.random.graph[,i])\n",
    "p.valor[i] <- sum(motifs.3.random.graph[,i] > occurrency.subgraph.three.nodes[i])/1000\n",
    "}\n",
    "\n",
    "p.valor"
   ]
  },
  {
   "cell_type": "markdown",
   "metadata": {},
   "source": [
    "Los subgrafos que se consideran motivos de red, serán los que tengan valores de p-valor inferiores a 0.05. Por lo tanto, se obtiene que los subgrafos que son motivos de red y que tienen interés biológico son los subgrafos número 7,8 y 16. Los grafos son los siguientes:"
   ]
  },
  {
   "cell_type": "code",
   "execution_count": 32,
   "metadata": {},
   "outputs": [
    {
     "data": {
      "image/png": "[encoded data removed]",
      "text/plain": [
       "Plot with title \"\""
      ]
     },
     "metadata": {
      "image/png": {
       "height": 420,
       "width": 420
      },
      "text/plain": {
       "height": 420,
       "width": 420
      }
     },
     "output_type": "display_data"
    },
    {
     "data": {
      "image/png": "[encoded data removed]",
      "text/plain": [
       "Plot with title \"\""
      ]
     },
     "metadata": {
      "image/png": {
       "height": 420,
       "width": 420
      },
      "text/plain": {
       "height": 420,
       "width": 420
      }
     },
     "output_type": "display_data"
    },
    {
     "data": {
      "image/png": "[encoded data removed]",
      "text/plain": [
       "Plot with title \"\""
      ]
     },
     "metadata": {
      "image/png": {
       "height": 420,
       "width": 420
      },
      "text/plain": {
       "height": 420,
       "width": 420
      }
     },
     "output_type": "display_data"
    }
   ],
   "source": [
    "plot.igraph(graph.isocreate(size=3, number=7))\n",
    "plot.igraph(graph.isocreate(size=3, number=8))\n",
    "plot.igraph(graph.isocreate(size=3, number=13))\n"
   ]
  },
  {
   "cell_type": "markdown",
   "metadata": {},
   "source": [
    "**CONCLUSIONES**"
   ]
  },
  {
   "cell_type": "markdown",
   "metadata": {},
   "source": [
    "En este estudio se ha analizado diferentes factores de transcripción de A.tahliana. Estos factores, realizan funciones distintas en dicha planta. Sin embargo, se observa en la red generada mediante Cytoscape que todos están conectados entre sí. \n",
    "\n",
    "También se ha detectado la existencia de motivos de red. En este caso, el motivo número 7, esta formado por un nodo (3) que regula a otros dos (1 y 2) y a su vez el nodo 2 regula al 1. El motivo número 8, está formado por un nodo que regula a otros dos y a su vez estos dos nodos se regulan entre sí. Por último, el motivo 16 es muy similar al anterior de manera que dos nodos se regulan entre sí y a su vez regulan a otro nodo."
   ]
  },
  {
   "cell_type": "markdown",
   "metadata": {},
   "source": [
    "**REFERENCIAS**"
   ]
  },
  {
   "cell_type": "markdown",
   "metadata": {},
   "source": [
    "**RStudio**\n",
    "\n",
    "RStudio Team (2015). RStudio: Integrated Development for R. RStudio, Inc., Boston, MA URL http://www.rstudio.com/.\n",
    "ChIPseeker. Guangchuang Yu, Li-Gen Wang, Qing-Yu He. ChIPseeker: an R/Bioconductor package for ChIP peak annotation, comparison and visualization. Bioinformatics 2015, 31(14):2382-2383.\n",
    "clusterProfiler. Guangchuang Yu, Li-Gen Wang, Yanyan Han, Qing-Yu He. clusterProfiler: an R package for comparing biological themes among gene clusters. OMICS: A Journal of Integrative Biology. 2012, 16(5):284-2.\n",
    "\n",
    "**Bioconductor**\n",
    "\n",
    "Orchestrating high-throughput genomic analysis with Bioconductor. W. Huber, V.J. Carey, R. Gentleman, ..., M. Morgan Nature Methods, 2015:12, 115. https://www.bioconductor.org/\n",
    "\n",
    "**Homer**\n",
    "\n",
    "Heinz S, Benner C, Spann N, Bertolino E et al. Simple Combinations of Lineage-Determining Transcription Factors Prime cis-Regulatory Elements Required for Macrophage and B Cell Identities. Mol Cell 2010 May 28;38(4):576-589. PMID: 20513432\n",
    "\n",
    "**Jupyter notebook**\n",
    "Thomas Kluyver, Benjamin Ragan-Kelley, Fernando Pérez, Brian Granger, Matthias Bussonnier, Jonathan Frederic, Kyle Kelley, Jessica Hamrick, Jason Grout, Sylvain Corlay, Paul Ivanov, Damián Avila, Safia Abdalla, Carol Willing, Jupyter Development Team. Jupyter Notebooks – a publishing format for reproducible computational workflows.\n"
   ]
  }
 ],
 "metadata": {
  "kernelspec": {
   "display_name": "R",
   "language": "R",
   "name": "ir"
  },
  "language_info": {
   "codemirror_mode": "r",
   "file_extension": ".r",
   "mimetype": "text/x-r-source",
   "name": "R",
   "pygments_lexer": "r",
   "version": "3.6.1"
  }
 },
 "nbformat": 4,
 "nbformat_minor": 2
}
